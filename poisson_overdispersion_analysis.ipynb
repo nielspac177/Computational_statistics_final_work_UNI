{
  "cells": [
    {
      "cell_type": "markdown",
      "metadata": {},
      "source": [
        "# Poisson Regression with Random Effects for Over-dispersion\n",
        "## COVID-19 Cases Analysis in Lima Districts\n",
        "\n",
        "**Author:** [Your Name]  \n",
        "**Course:** Computational Statistics  \n",
        "**Date:** August 2024\n",
        "\n",
        "This notebook implements Poisson regression models with random effects to handle over-dispersion in COVID-19 case data from Lima districts.\n"
      ]
    },
    {
      "cell_type": "code",
      "execution_count": null,
      "metadata": {},
      "outputs": [],
      "source": [
        "# Load required packages\n",
        "using CSV\n",
        "using DataFrames\n",
        "using Distributions\n",
        "using Random\n",
        "using LinearAlgebra\n",
        "using Optim\n",
        "using StatsBase\n",
        "using StatsFuns\n",
        "using SpecialFunctions\n",
        "using QuadGK\n",
        "import CairoMakie as MK\n",
        "using Printf\n",
        "\n",
        "Random.seed!(123)  # For reproducibility\n"
      ]
    },
    {
      "cell_type": "markdown",
      "metadata": {},
      "source": [
        "## 1. Data Loading and Exploration\n"
      ]
    },
    {
      "cell_type": "code",
      "execution_count": null,
      "metadata": {},
      "outputs": [],
      "source": [
        "# Load the COVID-19 data\n",
        "covid_data = CSV.read(\"course-computational-statistics-julia-main/data/simulated/01-lima-over-dispersion.csv\", DataFrame)\n",
        "\n",
        "# Display basic information\n",
        "println(\"Dataset dimensions: \", size(covid_data))\n",
        "println(\"\\nFirst few rows:\")\n",
        "first(covid_data, 5)\n"
      ]
    },
    {
      "cell_type": "code",
      "execution_count": null,
      "metadata": {},
      "outputs": [],
      "source": [
        "# Classical Poisson log-likelihood function\n",
        "function loglik_poisson(β, data)\n",
        "    y = data.cases\n",
        "    x = data.predictor\n",
        "    N = data.population\n",
        "    \n",
        "    η = β[1] .+ x * β[2]\n",
        "    λ = N .* exp.(η)\n",
        "    \n",
        "    loglik = -sum(λ) + sum(y .* η)\n",
        "    return loglik\n",
        "end\n",
        "\n",
        "# Fit classical Poisson regression\n",
        "function fit_poisson(data)\n",
        "    β0 = [0.0, 0.0]\n",
        "    negloglik(β) = -loglik_poisson(β, data)\n",
        "    \n",
        "    result = optimize(negloglik, β0, Newton(); autodiff = :forward)\n",
        "    β_hat = Optim.minimizer(result)\n",
        "    \n",
        "    return β_hat, result\n",
        "end\n",
        "\n",
        "# Fit the model\n",
        "β_poisson, opt_result = fit_poisson(covid_data)\n",
        "println(\"Classical Poisson regression coefficients:\")\n",
        "println(\"β₀ (intercept): \", round(β_poisson[1], digits=4))\n",
        "println(\"β₁ (predictor): \", round(β_poisson[2], digits=4))\n",
        "println(\"Exp(β₁) (rate ratio): \", round(exp(β_poisson[2]), digits=4))\n"
      ]
    },
    {
      "cell_type": "code",
      "execution_count": null,
      "metadata": {},
      "outputs": [],
      "source": [
        "# Monte Carlo test for overdispersion\n",
        "function overdispersion_test(data, β, n_sim=1000)\n",
        "    λ_fitted = data.population .* exp.(β[1] .+ data.predictor * β[2])\n",
        "    observed_stat = sum((data.cases - λ_fitted).^2 ./ λ_fitted)\n",
        "    \n",
        "    sim_stats = zeros(n_sim)\n",
        "    for i in 1:n_sim\n",
        "        y_sim = rand.(Poisson.(λ_fitted))\n",
        "        sim_stats[i] = sum((y_sim - λ_fitted).^2 ./ λ_fitted)\n",
        "    end\n",
        "    \n",
        "    p_value = mean(sim_stats .> observed_stat)\n",
        "    return observed_stat, sim_stats, p_value\n",
        "end\n",
        "\n",
        "obs_stat, sim_stats, p_val = overdispersion_test(covid_data, β_poisson, 2000)\n",
        "println(\"Monte Carlo Overdispersion Test Results:\")\n",
        "println(\"Observed statistic: \", round(obs_stat, digits=2))\n",
        "println(\"P-value: \", round(p_val, digits=4))\n"
      ]
    }
  ],
  "metadata": {
    "language_info": {
      "name": "python"
    }
  },
  "nbformat": 4,
  "nbformat_minor": 2
}
